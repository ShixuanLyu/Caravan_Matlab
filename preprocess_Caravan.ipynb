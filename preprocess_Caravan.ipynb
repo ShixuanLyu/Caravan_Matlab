{
 "cells": [
  {
   "cell_type": "code",
   "execution_count": null,
   "id": "a4d53284",
   "metadata": {},
   "outputs": [],
   "source": [
    "## This is the code to preprocess Caravan dataset. You can firstly use this code to adjust the first column of attributes_Caravan_xxxxx.csv,\n",
    "##  therefore, the gauge_id can be numeric. \n",
    "\n",
    "#    xxxxx can be:\n",
    "#          - camels, camelsaus, camelsbr, camelscl, camelsdk, camelsgb, hysets, il, lamah.\n",
    "\n",
    "#    Copyright (2023)\n",
    "#    For more problems, please don't hesitate to contact me.\n",
    "#    email: pa22285@bristol.ac.uk; shixuan.lyu@outlook.com"
   ]
  },
  {
   "cell_type": "code",
   "execution_count": null,
   "id": "0742dfdf",
   "metadata": {},
   "outputs": [],
   "source": [
    "## Import packages used for this study.\n",
    "#    os: for multiple csv files in the folder\n",
    "#    re: for adjusting the filename and gauge_id in attributes_Caravan_xxxxx.csv\n",
    "#    pandas: for reading each csv files here\n",
    "\n",
    "import os\n",
    "import re\n",
    "import pandas as pd"
   ]
  },
  {
   "cell_type": "code",
   "execution_count": null,
   "id": "bf7ed759",
   "metadata": {},
   "outputs": [],
   "source": []
  },
  {
   "cell_type": "code",
   "execution_count": null,
   "id": "15fb768c",
   "metadata": {},
   "outputs": [],
   "source": [
    "## Caravan_camels_data\n",
    "#    - For the first block, We need to remove the first '0' value after the underscore. Because after processing attributes_Caravan_camels.csv,\n",
    "#      the gauge_id will be numeric. And the zero will be deleted automatically. "
   ]
  },
  {
   "cell_type": "code",
   "execution_count": null,
   "id": "804c3744",
   "metadata": {},
   "outputs": [],
   "source": [
    "#      get the folder of timeseries data of Caravan_camels\n",
    "folder_path = r'D:/2.dataset/14.Hydrogauge/Caravan/Caravan/timeseries/csv/camels/'\n",
    "\n",
    "#      get the filenames in the folder\n",
    "csv_files = [f for f in os.listdir(folder_path) if f.endwith('.csv')]\n",
    "\n",
    "#      read all the filenames of csv, and rename them\n",
    "for file_name in csv_files:\n",
    "    #  get the first number of underscore\n",
    "    num_index = file_name.index('_') + 1\n",
    "    \n",
    "    if file_name[num_index] == '0':\n",
    "        #  rename the csv file\n",
    "        new_name = file_name[:num_index] + file_name[num_index+1:]\n",
    "        os.rename(os.path.join(folder_path, file_name), os.path.join(folder_path, new_name))"
   ]
  },
  {
   "cell_type": "code",
   "execution_count": null,
   "id": "a47c88ba",
   "metadata": {},
   "outputs": [],
   "source": [
    "#    - Then, you need to process the first column in attributes_Caravan_camels.csv to make it numeric. \n",
    "#      In this code, you will use pandas package to read csv file and the corresponding first column. You will delete 'camels_' and then\n",
    "#      make all the gauge_id numeric.\n",
    "#    - Or you can just open the attributes_Caravan_camels.csv and delete 'camels_' manually."
   ]
  },
  {
   "cell_type": "code",
   "execution_count": null,
   "id": "b3931406",
   "metadata": {},
   "outputs": [],
   "source": [
    "#      read attributes_Caravan_camels.csv\n",
    "df = pd.read_csv('D:/2.dataset/14.Hydrogauge/Caravan/Caravan/attributes/camels/attributes_caravan_camels.csv')\n",
    "\n",
    "#      delete 'camels_' in column 'gauge_id'\n",
    "df['gauge_id'] = df['gauge_id'].str.replace('camels_', '')\n",
    "\n",
    "#      re-write the csv file\n",
    "df.to_csv('D:/2.dataset/14.Hydrogauge/Caravan/Caravan/attributes/camels/attributes_caravan_camels.csv', index = False)"
   ]
  },
  {
   "cell_type": "code",
   "execution_count": null,
   "id": "e6d80d06",
   "metadata": {},
   "outputs": [],
   "source": []
  },
  {
   "cell_type": "code",
   "execution_count": null,
   "id": "6745c2a5",
   "metadata": {},
   "outputs": [],
   "source": [
    "## Caravan_camelsbr_data\n",
    "#    - You don't need to adjust csv filename for camelsbr, you only need to adjust the first column in attributes_Caravan_camelsbr.csv to\n",
    "#      make it numeric. \n",
    "#    - You can also just open the attributes_Caravan_camelsbr.csv and delete 'camelsbr_' manually."
   ]
  },
  {
   "cell_type": "code",
   "execution_count": null,
   "id": "7f0d414d",
   "metadata": {},
   "outputs": [],
   "source": [
    "#      read attributes_Caravan_camelsbr.csv\n",
    "df = pd.read_csv('D:/2.dataset/14.Hydrogauge/Caravan/Caravan/attributes/camelsbr/attributes_caravan_camelsbr.csv')\n",
    "\n",
    "#      delete 'camelsbr_' in column 'gauge_id'\n",
    "df['gauge_id'] = df['gauge_id'].str.replace('camelsbr_', '')\n",
    "\n",
    "#      re-write the csv file\n",
    "df.to_csv('D:/2.dataset/14.Hydrogauge/Caravan/Caravan/attributes/camelsbr/attributes_caravan_camelsbr.csv', index = False)"
   ]
  },
  {
   "cell_type": "code",
   "execution_count": null,
   "id": "21e06595",
   "metadata": {},
   "outputs": [],
   "source": []
  },
  {
   "cell_type": "code",
   "execution_count": null,
   "id": "c2ac3943",
   "metadata": {},
   "outputs": [],
   "source": [
    "## Caravan_camelscl_data\n",
    "#    - You don't need to adjust csv filename for camelscl, you only need to adjust the first column in attributes_Caravan_camelscl.csv to\n",
    "#      make it numeric. \n",
    "#    - You can also just open the attributes_Caravan_camelscl.csv and delete 'camelscl_' manually."
   ]
  },
  {
   "cell_type": "code",
   "execution_count": null,
   "id": "ac0b2e5c",
   "metadata": {},
   "outputs": [],
   "source": [
    "#      read attributes_Caravan_camelscl.csv\n",
    "df = pd.read_csv('D:/2.dataset/14.Hydrogauge/Caravan/Caravan/attributes/camelscl/attributes_caravan_camelscl.csv')\n",
    "\n",
    "#      delete 'camelscl_' in column 'gauge_id'\n",
    "df['gauge_id'] = df['gauge_id'].str.replace('camelscl_', '')\n",
    "\n",
    "#      re-write the csv file\n",
    "df.to_csv('D:/2.dataset/14.Hydrogauge/Caravan/Caravan/attributes/camelscl/attributes_caravan_camelscl.csv', index = False)"
   ]
  },
  {
   "cell_type": "code",
   "execution_count": null,
   "id": "386baf79",
   "metadata": {},
   "outputs": [],
   "source": []
  },
  {
   "cell_type": "code",
   "execution_count": null,
   "id": "6d006af7",
   "metadata": {},
   "outputs": [],
   "source": [
    "## Caravan_camelsgb_data\n",
    "#    - You don't need to adjust csv filename for camelsgb, you only need to adjust the first column in attributes_Caravan_camelsgb.csv to\n",
    "#      make it numeric. \n",
    "#    - You can also just open the attributes_Caravan_camelsgb.csv and delete 'camelsgb_' manually."
   ]
  },
  {
   "cell_type": "code",
   "execution_count": null,
   "id": "b6c90d86",
   "metadata": {},
   "outputs": [],
   "source": [
    "#      read attributes_Caravan_camelsgb.csv\n",
    "df = pd.read_csv('D:/2.dataset/14.Hydrogauge/Caravan/Caravan/attributes/camelsgb/attributes_caravan_camelsgb.csv')\n",
    "\n",
    "#      delete 'camelsgb_' in column 'gauge_id'\n",
    "df['gauge_id'] = df['gauge_id'].str.replace('camelsgb_', '')\n",
    "\n",
    "#      re-write the csv file\n",
    "df.to_csv('D:/2.dataset/14.Hydrogauge/Caravan/Caravan/attributes/camelsgb/attributes_caravan_camelsgb.csv', index = False)"
   ]
  },
  {
   "cell_type": "code",
   "execution_count": null,
   "id": "7b8f915f",
   "metadata": {},
   "outputs": [],
   "source": []
  },
  {
   "cell_type": "code",
   "execution_count": null,
   "id": "7354d664",
   "metadata": {},
   "outputs": [],
   "source": [
    "## Caravan_camelsdk_data\n",
    "#    - You don't need to adjust csv filename for camelsdk, you only need to adjust the first column in attributes_Caravan_camelsdk.csv to\n",
    "#      make it numeric. \n",
    "#    - You can also just open the attributes_Caravan_camelsdk.csv and delete 'camelsdk_' manually."
   ]
  },
  {
   "cell_type": "code",
   "execution_count": null,
   "id": "57052a8f",
   "metadata": {},
   "outputs": [],
   "source": [
    "#      read attributes_Caravan_camelsdk.csv\n",
    "df = pd.read_csv('D:/2.dataset/14.Hydrogauge/Caravan/Caravan/attributes/camelsdk/attributes_caravan_camelsdk.csv')\n",
    "\n",
    "#      delete 'camelsdk_' in column 'gauge_id'\n",
    "df['gauge_id'] = df['gauge_id'].str.replace('camelsdk_', '')\n",
    "\n",
    "#      re-write the csv file\n",
    "df.to_csv('D:/2.dataset/14.Hydrogauge/Caravan/Caravan/attributes/camelsdk/attributes_caravan_camelsdk.csv', index = False)"
   ]
  },
  {
   "cell_type": "code",
   "execution_count": null,
   "id": "cc0b4017",
   "metadata": {},
   "outputs": [],
   "source": []
  },
  {
   "cell_type": "code",
   "execution_count": null,
   "id": "67221e60",
   "metadata": {},
   "outputs": [],
   "source": [
    "## Caravan_lamah_data\n",
    "#    - You don't need to adjust csv filename for lamah, you only need to adjust the first column in attributes_Caravan_lamah.csv to\n",
    "#      make it numeric. \n",
    "#    - You can also just open the attributes_Caravan_lamah.csv and delete 'lamah_' manually."
   ]
  },
  {
   "cell_type": "code",
   "execution_count": null,
   "id": "8478bd57",
   "metadata": {},
   "outputs": [],
   "source": [
    "#      read attributes_Caravan_lamah.csv\n",
    "df = pd.read_csv('D:/2.dataset/14.Hydrogauge/Caravan/Caravan/attributes/lamah/attributes_caravan_lamah.csv')\n",
    "\n",
    "#      delete 'lamah' in column 'gauge_id'\n",
    "df['gauge_id'] = df['gauge_id'].str.replace('lamah_', '')\n",
    "\n",
    "#      re-write the csv file\n",
    "df.to_csv('D:/2.dataset/14.Hydrogauge/Caravan/Caravan/attributes/lamah/attributes_caravan_lamah.csv', index = False)"
   ]
  },
  {
   "cell_type": "code",
   "execution_count": null,
   "id": "0c73b53e",
   "metadata": {},
   "outputs": [],
   "source": []
  },
  {
   "cell_type": "code",
   "execution_count": null,
   "id": "5c87e176",
   "metadata": {},
   "outputs": [],
   "source": [
    "## Caravan_il_data\n",
    "#    - You don't need to adjust csv filename for il, you only need to adjust the first column in attributes_Caravan_il.csv to\n",
    "#      make it numeric. \n",
    "#    - You can also just open the attributes_Caravan_il.csv and delete 'il_' manually."
   ]
  },
  {
   "cell_type": "code",
   "execution_count": null,
   "id": "b0e69247",
   "metadata": {},
   "outputs": [],
   "source": [
    "#      read attributes_Caravan_il.csv\n",
    "df = pd.read_csv('D:/2.dataset/14.Hydrogauge/Caravan/Caravan/attributes/il/attributes_caravan_il.csv')\n",
    "\n",
    "#      delete 'il' in column 'gauge_id'\n",
    "df['gauge_id'] = df['gauge_id'].str.replace('il_', '')\n",
    "\n",
    "#      re-write the csv file\n",
    "df.to_csv('D:/2.dataset/14.Hydrogauge/Caravan/Caravan/attributes/il/attributes_caravan_il.csv', index = False)"
   ]
  },
  {
   "cell_type": "code",
   "execution_count": null,
   "id": "01c56f7c",
   "metadata": {},
   "outputs": [],
   "source": []
  },
  {
   "cell_type": "code",
   "execution_count": null,
   "id": "ee09651e",
   "metadata": {},
   "outputs": [],
   "source": [
    "## Caravan_camelsaus_data\n",
    "#    - Caravan_camelsaus_data is different from the previous subdatasets, the gauge_id in attributes_Caravan_camelsaus.csv contain\n",
    "#      Capital letters. Therefore, we need to delete them in filenames. MATLAB code has already process for this issue, so you just need to \n",
    "#      delete 'camelsaus_' in the first column of attributes_Caravan_camelsaus.csv.\n",
    "#    - Like previous ones, you can also adjust them manually."
   ]
  },
  {
   "cell_type": "code",
   "execution_count": null,
   "id": "dde262f2",
   "metadata": {},
   "outputs": [],
   "source": [
    "#    This is a block to delete 'camelsaus_' in attributes_Caravan_camelsaus.csv.\n",
    "\n",
    "#      read attributes_Caravan_camelsaus.csv\n",
    "df = pd.read_csv('D:/2.dataset/14.Hydrogauge/Caravan/Caravan/attributes/camelsaus/attributes_caravan_camelsaus.csv')\n",
    "\n",
    "#      delete 'camelsaus_' in column 'gauge_id'\n",
    "df['gauge_id'] = df['gauge_id'].str.replace('camelsaus_', '')\n",
    "\n",
    "#      re-write the csv file\n",
    "df.to_csv('D:/2.dataset/14.Hydrogauge/Caravan/Caravan/attributes/camelsaus/attributes_caravan_camelsaus.csv', index = False)"
   ]
  },
  {
   "cell_type": "code",
   "execution_count": null,
   "id": "c0b3c982",
   "metadata": {},
   "outputs": [],
   "source": [
    "#    Then, you need to rename the csv filenames.\n",
    "\n",
    "#      get the folder path, don't forget to change it in your local PC.\n",
    "folder_path = r\"D:/2.dataset/14.Hydrogauge/Caravan/Caravan/timeseries/csv/camelsaus/\"\n",
    "\n",
    "# Read all csv files in the folder\n",
    "for filename in os.listdir(folder_path):\n",
    "    \n",
    "    if filename.endswith('.csv'):\n",
    "        \n",
    "        # Get number from the name of csv files\n",
    "        name, ext = os.path.splitext(filename)\n",
    "        new_name = name.split(\"_\")[0] + \"_\" + ''.join(filter(str.isdigit, name.split(\"_\")[1]))\n",
    "        \n",
    "        # Rename the new filename\n",
    "        os.rename(os.path.join(folder_path, filename), os.path.join(folder_path, new_name+ext))"
   ]
  },
  {
   "cell_type": "code",
   "execution_count": null,
   "id": "bbf6bd5a",
   "metadata": {},
   "outputs": [],
   "source": []
  },
  {
   "cell_type": "code",
   "execution_count": null,
   "id": "53da7cf3",
   "metadata": {},
   "outputs": [],
   "source": [
    "## Caravan_hysets_data\n",
    "#    - Caravan_hysets_data is more complex than camelsaus. Even though they have similar filenames, hysets contain more csv files, and if you \n",
    "#      neglect Capital letters, they will have the same name as other csv files. Based on that, we need to consider Capital letters as a \n",
    "#      certain number. For instance, A as 1, B as 2, ... , Z as 26. \n",
    "#    - You should not change the gauge_id, but just create a new column named 'gauge_index' to help you load Caravan_hysets in MATLAB."
   ]
  },
  {
   "cell_type": "code",
   "execution_count": null,
   "id": "a272eb02",
   "metadata": {},
   "outputs": [],
   "source": [
    "#    First, create a column in attributes_Caravan_hysets named 'gauge_index' based on the original 'gauge_id'.\n",
    "\n",
    "#    read attributes_Caravan_hysets.csv\n",
    "df = pd.read_csv('D:/2.dataset/14.Hydrogauge/Caravan/Caravan/attributes/hysets/attributes_caravan_hysets.csv')\n",
    "\n",
    "#    Insert a new column before 'gauge_id' named 'gauge_index', we will delete 'hysets_' and then consider captial letters as number, for \n",
    "#      example, A as 1, B as 2, ... , Z as 26.\n",
    "df.insert(loc = 0, column = 'gauge_index', value = df['gauge_id'].str.replace('hysets_', '').str.replace('[A-Za-z]', lambda x: str(ord(x.group().lower())-96)))\n",
    "\n",
    "#    Write back to csv files\n",
    "df.to_csv('D:/2.dataset/14.Hydrogauge/Caravan/Caravan/attributes/hysets/attributes_caravan_hysets.csv', index = False)"
   ]
  },
  {
   "cell_type": "code",
   "execution_count": null,
   "id": "5c49c8de",
   "metadata": {},
   "outputs": [],
   "source": [
    "#    Now, we need to detect whether there are overlap value in 'gauge_index'\n",
    "duplicates = df.duplicated(subset = df.columns[0], keep=False)\n",
    "\n",
    "#    Print all the overlap value\n",
    "print(df[duplicates])"
   ]
  },
  {
   "cell_type": "code",
   "execution_count": null,
   "id": "784817a5",
   "metadata": {},
   "outputs": [],
   "source": [
    "#    Now, we will rename the hysets timeseries data.\n",
    "\n",
    "#    find the attributes_Caravan_hysets.csv file\n",
    "attributes_Caravan_hysets = r'D:/2.dataset/14.Hydrogauge/Caravan/Caravan/attributes/hysets/attributes_caravan_hysets.csv'\n",
    "\n",
    "#    define the path of timeseries csv in hysets\n",
    "folder_path = r'D:/2.dataset/14.Hydrogauge/Caravan/Caravan/timeseries/csv/hysets/'\n",
    "\n",
    "#    create a dictionary to find the relationship between the first column and the second column\n",
    "name_dict = {str(row[1]) + '.csv': 'hysets_' + str(int(row[0])) + '.csv' for i, row in df.iterrows()}\n",
    "\n",
    "#    read attributes_Caravan_hysets.csv\n",
    "for file_name in os.listdir(folder_path):\n",
    "    if file_name in name_dict:\n",
    "        old_file_path = os.path.join(folder_path, file_name)\n",
    "        new_file_path = os.path.join(folder_path, name_dict[file_name])\n",
    "        os.rename(old_file_path, new_file_path)"
   ]
  },
  {
   "cell_type": "code",
   "execution_count": null,
   "id": "74ba98ed",
   "metadata": {},
   "outputs": [],
   "source": [
    "#    Rename the csv files in hysets to delete '.0'\n",
    "for file_name in os.listdir(folder_path):\n",
    "    if file_name.endswith('.0.csv'):\n",
    "        new_file_name = file_name[:-6] + '.csv'\n",
    "        os.rename(os.path.join(folder_path, file_name), os.path.join(folder_path, new_file_name))"
   ]
  },
  {
   "cell_type": "code",
   "execution_count": null,
   "id": "77807238",
   "metadata": {},
   "outputs": [],
   "source": []
  }
 ],
 "metadata": {
  "kernelspec": {
   "display_name": "Python 3 (ipykernel)",
   "language": "python",
   "name": "python3"
  },
  "language_info": {
   "codemirror_mode": {
    "name": "ipython",
    "version": 3
   },
   "file_extension": ".py",
   "mimetype": "text/x-python",
   "name": "python",
   "nbconvert_exporter": "python",
   "pygments_lexer": "ipython3",
   "version": "3.9.7"
  }
 },
 "nbformat": 4,
 "nbformat_minor": 5
}
